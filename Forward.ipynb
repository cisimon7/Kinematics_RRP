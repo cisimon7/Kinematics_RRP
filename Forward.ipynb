{
 "cells": [
  {
   "cell_type": "code",
   "execution_count": 2,
   "metadata": {
    "collapsed": true
   },
   "outputs": [],
   "source": [
    "from utils import *\n",
    "from sympy import symbols, trigsimp, lambdify, diff, init_printing\n",
    "init_printing(use_unicode=True)"
   ]
  },
  {
   "cell_type": "code",
   "execution_count": 3,
   "outputs": [],
   "source": [
    "# Joint parameters declaration\n",
    "q1, q2, a2, d1, d3 = symbols(\"q1 q2 a2, d1 d3\", real=True)"
   ],
   "metadata": {
    "collapsed": false,
    "pycharm": {
     "name": "#%%\n"
    }
   }
  },
  {
   "cell_type": "code",
   "execution_count": 4,
   "outputs": [
    {
     "data": {
      "text/plain": "⎡                                              ⎛                      ⎛     π⎞\n⎢cos(q₁)  -sin(q₁)⋅cos(q₂)  sin(q₁)⋅sin(q₂)   -⎜a₂⋅cos(q₂) + √2⋅d₃⋅cos⎜q₂ + ─⎟\n⎢                                              ⎝                      ⎝     4⎠\n⎢                                                                             \n⎢                                             ⎛                      ⎛     π⎞⎞\n⎢sin(q₁)  cos(q₁)⋅cos(q₂)   -sin(q₂)⋅cos(q₁)  ⎜a₂⋅cos(q₂) + √2⋅d₃⋅cos⎜q₂ + ─⎟⎟\n⎢                                             ⎝                      ⎝     4⎠⎠\n⎢                                                                             \n⎢                                                                           ⎛ \n⎢   0         sin(q₂)           cos(q₂)          a₂⋅sin(q₂) + d₁ + √2⋅d₃⋅sin⎜q\n⎢                                                                           ⎝ \n⎢                                                                             \n⎣   0            0                 0                              1           \n\n⎞        ⎤\n⎟⋅sin(q₁)⎥\n⎠        ⎥\n         ⎥\n         ⎥\n⋅cos(q₁) ⎥\n         ⎥\n         ⎥\n    π⎞   ⎥\n₂ + ─⎟   ⎥\n    4⎠   ⎥\n         ⎥\n         ⎦",
      "text/latex": "$\\displaystyle \\left[\\begin{matrix}\\cos{\\left(q_{1} \\right)} & - \\sin{\\left(q_{1} \\right)} \\cos{\\left(q_{2} \\right)} & \\sin{\\left(q_{1} \\right)} \\sin{\\left(q_{2} \\right)} & - \\left(a_{2} \\cos{\\left(q_{2} \\right)} + \\sqrt{2} d_{3} \\cos{\\left(q_{2} + \\frac{\\pi}{4} \\right)}\\right) \\sin{\\left(q_{1} \\right)}\\\\\\sin{\\left(q_{1} \\right)} & \\cos{\\left(q_{1} \\right)} \\cos{\\left(q_{2} \\right)} & - \\sin{\\left(q_{2} \\right)} \\cos{\\left(q_{1} \\right)} & \\left(a_{2} \\cos{\\left(q_{2} \\right)} + \\sqrt{2} d_{3} \\cos{\\left(q_{2} + \\frac{\\pi}{4} \\right)}\\right) \\cos{\\left(q_{1} \\right)}\\\\0 & \\sin{\\left(q_{2} \\right)} & \\cos{\\left(q_{2} \\right)} & a_{2} \\sin{\\left(q_{2} \\right)} + d_{1} + \\sqrt{2} d_{3} \\sin{\\left(q_{2} + \\frac{\\pi}{4} \\right)}\\\\0 & 0 & 0 & 1\\end{matrix}\\right]$"
     },
     "execution_count": 4,
     "metadata": {},
     "output_type": "execute_result"
    }
   ],
   "source": [
    "# Forward Kinematics\n",
    "H = Rz(q1)*Tz(d1)*Rx(q2)*Ty(a2)*Ty(d3)*Tz(d3)\n",
    "H = trigsimp(H)\n",
    "H"
   ],
   "metadata": {
    "collapsed": false,
    "pycharm": {
     "name": "#%%\n"
    }
   }
  },
  {
   "cell_type": "code",
   "execution_count": 5,
   "outputs": [
    {
     "data": {
      "text/plain": "⎡cos(q₁)  -sin(q₁)⋅cos(q₂)  sin(q₁)⋅sin(q₂) ⎤\n⎢                                           ⎥\n⎢sin(q₁)  cos(q₁)⋅cos(q₂)   -sin(q₂)⋅cos(q₁)⎥\n⎢                                           ⎥\n⎣   0         sin(q₂)           cos(q₂)     ⎦",
      "text/latex": "$\\displaystyle \\left[\\begin{matrix}\\cos{\\left(q_{1} \\right)} & - \\sin{\\left(q_{1} \\right)} \\cos{\\left(q_{2} \\right)} & \\sin{\\left(q_{1} \\right)} \\sin{\\left(q_{2} \\right)}\\\\\\sin{\\left(q_{1} \\right)} & \\cos{\\left(q_{1} \\right)} \\cos{\\left(q_{2} \\right)} & - \\sin{\\left(q_{2} \\right)} \\cos{\\left(q_{1} \\right)}\\\\0 & \\sin{\\left(q_{2} \\right)} & \\cos{\\left(q_{2} \\right)}\\end{matrix}\\right]$"
     },
     "execution_count": 5,
     "metadata": {},
     "output_type": "execute_result"
    }
   ],
   "source": [
    "# Rotation Matrix\n",
    "R = H[0:3, :-1]\n",
    "R"
   ],
   "metadata": {
    "collapsed": false,
    "pycharm": {
     "name": "#%%\n"
    }
   }
  },
  {
   "cell_type": "code",
   "execution_count": 6,
   "outputs": [
    {
     "data": {
      "text/plain": "⎡ ⎛                      ⎛     π⎞⎞        ⎤\n⎢-⎜a₂⋅cos(q₂) + √2⋅d₃⋅cos⎜q₂ + ─⎟⎟⋅sin(q₁)⎥\n⎢ ⎝                      ⎝     4⎠⎠        ⎥\n⎢                                         ⎥\n⎢⎛                      ⎛     π⎞⎞         ⎥\n⎢⎜a₂⋅cos(q₂) + √2⋅d₃⋅cos⎜q₂ + ─⎟⎟⋅cos(q₁) ⎥\n⎢⎝                      ⎝     4⎠⎠         ⎥\n⎢                                         ⎥\n⎢                              ⎛     π⎞   ⎥\n⎢   a₂⋅sin(q₂) + d₁ + √2⋅d₃⋅sin⎜q₂ + ─⎟   ⎥\n⎣                              ⎝     4⎠   ⎦",
      "text/latex": "$\\displaystyle \\left[\\begin{matrix}- \\left(a_{2} \\cos{\\left(q_{2} \\right)} + \\sqrt{2} d_{3} \\cos{\\left(q_{2} + \\frac{\\pi}{4} \\right)}\\right) \\sin{\\left(q_{1} \\right)}\\\\\\left(a_{2} \\cos{\\left(q_{2} \\right)} + \\sqrt{2} d_{3} \\cos{\\left(q_{2} + \\frac{\\pi}{4} \\right)}\\right) \\cos{\\left(q_{1} \\right)}\\\\a_{2} \\sin{\\left(q_{2} \\right)} + d_{1} + \\sqrt{2} d_{3} \\sin{\\left(q_{2} + \\frac{\\pi}{4} \\right)}\\end{matrix}\\right]$"
     },
     "execution_count": 6,
     "metadata": {},
     "output_type": "execute_result"
    }
   ],
   "source": [
    "# Translational Matrix\n",
    "T = H[0:3, -1]\n",
    "T"
   ],
   "metadata": {
    "collapsed": false,
    "pycharm": {
     "name": "#%%\n"
    }
   }
  },
  {
   "cell_type": "code",
   "execution_count": null,
   "outputs": [],
   "source": [],
   "metadata": {
    "collapsed": false,
    "pycharm": {
     "name": "#%%\n"
    }
   }
  }
 ],
 "metadata": {
  "kernelspec": {
   "display_name": "Python 3",
   "language": "python",
   "name": "python3"
  },
  "language_info": {
   "codemirror_mode": {
    "name": "ipython",
    "version": 2
   },
   "file_extension": ".py",
   "mimetype": "text/x-python",
   "name": "python",
   "nbconvert_exporter": "python",
   "pygments_lexer": "ipython2",
   "version": "2.7.6"
  }
 },
 "nbformat": 4,
 "nbformat_minor": 0
}