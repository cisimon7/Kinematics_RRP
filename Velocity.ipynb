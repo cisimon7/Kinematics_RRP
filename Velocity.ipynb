{
 "cells": [
  {
   "cell_type": "code",
   "execution_count": 5,
   "metadata": {
    "collapsed": true
   },
   "outputs": [],
   "source": [
    "from utils import *\n",
    "from sympy import symbols, trigsimp, lambdify, diff, init_printing\n",
    "init_printing(use_unicode=True)"
   ]
  },
  {
   "cell_type": "code",
   "execution_count": 6,
   "outputs": [],
   "source": [
    "# Joint parameters declaration\n",
    "q1, q2, a2, d1, d3 = symbols(\"q1 q2 a2, d1 d3\", real=True)"
   ],
   "metadata": {
    "collapsed": false,
    "pycharm": {
     "name": "#%%\n"
    }
   }
  },
  {
   "cell_type": "code",
   "execution_count": 7,
   "outputs": [
    {
     "data": {
      "text/plain": "⎡cos(q₁)  -sin(q₁)⋅cos(q₂)  sin(q₁)⋅sin(q₂)    -(a₂ + d₃)⋅sin(q₁)⋅cos(q₂) ⎤\n⎢                                                                         ⎥\n⎢sin(q₁)  cos(q₁)⋅cos(q₂)   -sin(q₂)⋅cos(q₁)   (a₂ + d₃)⋅cos(q₁)⋅cos(q₂)  ⎥\n⎢                                                                         ⎥\n⎢   0         sin(q₂)           cos(q₂)       a₂⋅sin(q₂) + d₁ + d₃⋅sin(q₂)⎥\n⎢                                                                         ⎥\n⎣   0            0                 0                       1              ⎦",
      "text/latex": "$\\displaystyle \\left[\\begin{matrix}\\cos{\\left(q_{1} \\right)} & - \\sin{\\left(q_{1} \\right)} \\cos{\\left(q_{2} \\right)} & \\sin{\\left(q_{1} \\right)} \\sin{\\left(q_{2} \\right)} & - \\left(a_{2} + d_{3}\\right) \\sin{\\left(q_{1} \\right)} \\cos{\\left(q_{2} \\right)}\\\\\\sin{\\left(q_{1} \\right)} & \\cos{\\left(q_{1} \\right)} \\cos{\\left(q_{2} \\right)} & - \\sin{\\left(q_{2} \\right)} \\cos{\\left(q_{1} \\right)} & \\left(a_{2} + d_{3}\\right) \\cos{\\left(q_{1} \\right)} \\cos{\\left(q_{2} \\right)}\\\\0 & \\sin{\\left(q_{2} \\right)} & \\cos{\\left(q_{2} \\right)} & a_{2} \\sin{\\left(q_{2} \\right)} + d_{1} + d_{3} \\sin{\\left(q_{2} \\right)}\\\\0 & 0 & 0 & 1\\end{matrix}\\right]$"
     },
     "execution_count": 7,
     "metadata": {},
     "output_type": "execute_result"
    }
   ],
   "source": [
    "# Forward Kinematics\n",
    "H = Rz(q1)*Tz(d1)*Rx(q2)*Ty(a2)*Ty(d3)\n",
    "H = trigsimp(H)\n",
    "H"
   ],
   "metadata": {
    "collapsed": false,
    "pycharm": {
     "name": "#%%\n"
    }
   }
  },
  {
   "cell_type": "code",
   "execution_count": 8,
   "outputs": [
    {
     "data": {
      "text/plain": "⎡cos(q₁)  -sin(q₁)⋅cos(q₂)  sin(q₁)⋅sin(q₂) ⎤\n⎢                                           ⎥\n⎢sin(q₁)  cos(q₁)⋅cos(q₂)   -sin(q₂)⋅cos(q₁)⎥\n⎢                                           ⎥\n⎣   0         sin(q₂)           cos(q₂)     ⎦",
      "text/latex": "$\\displaystyle \\left[\\begin{matrix}\\cos{\\left(q_{1} \\right)} & - \\sin{\\left(q_{1} \\right)} \\cos{\\left(q_{2} \\right)} & \\sin{\\left(q_{1} \\right)} \\sin{\\left(q_{2} \\right)}\\\\\\sin{\\left(q_{1} \\right)} & \\cos{\\left(q_{1} \\right)} \\cos{\\left(q_{2} \\right)} & - \\sin{\\left(q_{2} \\right)} \\cos{\\left(q_{1} \\right)}\\\\0 & \\sin{\\left(q_{2} \\right)} & \\cos{\\left(q_{2} \\right)}\\end{matrix}\\right]$"
     },
     "execution_count": 8,
     "metadata": {},
     "output_type": "execute_result"
    }
   ],
   "source": [
    "# General Rotation Matrix\n",
    "R = H[0:3, :-1]\n",
    "R"
   ],
   "metadata": {
    "collapsed": false,
    "pycharm": {
     "name": "#%%\n"
    }
   }
  },
  {
   "cell_type": "code",
   "execution_count": 9,
   "outputs": [
    {
     "data": {
      "text/plain": "⎡ -(a₂ + d₃)⋅sin(q₁)⋅cos(q₂) ⎤\n⎢                            ⎥\n⎢ (a₂ + d₃)⋅cos(q₁)⋅cos(q₂)  ⎥\n⎢                            ⎥\n⎣a₂⋅sin(q₂) + d₁ + d₃⋅sin(q₂)⎦",
      "text/latex": "$\\displaystyle \\left[\\begin{matrix}- \\left(a_{2} + d_{3}\\right) \\sin{\\left(q_{1} \\right)} \\cos{\\left(q_{2} \\right)}\\\\\\left(a_{2} + d_{3}\\right) \\cos{\\left(q_{1} \\right)} \\cos{\\left(q_{2} \\right)}\\\\a_{2} \\sin{\\left(q_{2} \\right)} + d_{1} + d_{3} \\sin{\\left(q_{2} \\right)}\\end{matrix}\\right]$"
     },
     "execution_count": 9,
     "metadata": {},
     "output_type": "execute_result"
    }
   ],
   "source": [
    "# General Translational Matrix\n",
    "T = H[0:3, -1]\n",
    "T"
   ],
   "metadata": {
    "collapsed": false,
    "pycharm": {
     "name": "#%%\n"
    }
   }
  },
  {
   "cell_type": "code",
   "execution_count": 10,
   "outputs": [
    {
     "data": {
      "text/plain": "⎡(-a₂ - d₃)⋅cos(q₁)⋅cos(q₂)  (a₂ + d₃)⋅sin(q₁)⋅sin(q₂)   -sin(q₁)⋅cos(q₂)⎤\n⎢                                                                        ⎥\n⎢(-a₂ - d₃)⋅sin(q₁)⋅cos(q₂)  (-a₂ - d₃)⋅sin(q₂)⋅cos(q₁)  cos(q₁)⋅cos(q₂) ⎥\n⎢                                                                        ⎥\n⎢            0                   (a₂ + d₃)⋅cos(q₂)           sin(q₂)     ⎥\n⎢                                                                        ⎥\n⎢            0                        cos(q₁)                   0        ⎥\n⎢                                                                        ⎥\n⎢            0                        sin(q₁)                   0        ⎥\n⎢                                                                        ⎥\n⎣            1                           0                      0        ⎦",
      "text/latex": "$\\displaystyle \\left[\\begin{matrix}\\left(- a_{2} - d_{3}\\right) \\cos{\\left(q_{1} \\right)} \\cos{\\left(q_{2} \\right)} & \\left(a_{2} + d_{3}\\right) \\sin{\\left(q_{1} \\right)} \\sin{\\left(q_{2} \\right)} & - \\sin{\\left(q_{1} \\right)} \\cos{\\left(q_{2} \\right)}\\\\\\left(- a_{2} - d_{3}\\right) \\sin{\\left(q_{1} \\right)} \\cos{\\left(q_{2} \\right)} & \\left(- a_{2} - d_{3}\\right) \\sin{\\left(q_{2} \\right)} \\cos{\\left(q_{1} \\right)} & \\cos{\\left(q_{1} \\right)} \\cos{\\left(q_{2} \\right)}\\\\0 & \\left(a_{2} + d_{3}\\right) \\cos{\\left(q_{2} \\right)} & \\sin{\\left(q_{2} \\right)}\\\\0 & \\cos{\\left(q_{1} \\right)} & 0\\\\0 & \\sin{\\left(q_{1} \\right)} & 0\\\\1 & 0 & 0\\end{matrix}\\right]$"
     },
     "execution_count": 10,
     "metadata": {},
     "output_type": "execute_result"
    }
   ],
   "source": [
    "# Calculating Jacobian Matrix\n",
    "# Running this cell takes about 10 minutes\n",
    "# Maybe Jump by 2 cells, to load the Jacobian Function from File\n",
    "Jaco = Matrix([])\n",
    "\n",
    "var = [q1, q2, d3]\n",
    "for j in var:\n",
    "    HD = trigsimp(diff(H, j))\n",
    "\n",
    "    T1 = HD[0:3, -1]\n",
    "\n",
    "    RD = HD[0:3, :-1]\n",
    "    RW = trigsimp(RD*R.T)\n",
    "\n",
    "    J = T1.row_insert(3, Matrix([RW[2,1], RW[0,2], RW[1,0]]))\n",
    "\n",
    "    Jaco = Jaco.col_insert(len(Jaco), J)\n",
    "\n",
    "Jaco"
   ],
   "metadata": {
    "collapsed": false,
    "pycharm": {
     "name": "#%%\n"
    }
   }
  },
  {
   "cell_type": "code",
   "execution_count": 11,
   "outputs": [
    {
     "data": {
      "text/plain": "⎡  cos(t)   ⎤\n⎢           ⎥\n⎢-2⋅sin(2⋅t)⎥\n⎢           ⎥\n⎣3⋅cos(3⋅t) ⎦",
      "text/latex": "$\\displaystyle \\left[\\begin{matrix}\\cos{\\left(t \\right)}\\\\- 2 \\sin{\\left(2 t \\right)}\\\\3 \\cos{\\left(3 t \\right)}\\end{matrix}\\right]$"
     },
     "execution_count": 11,
     "metadata": {},
     "output_type": "execute_result"
    }
   ],
   "source": [
    "# Initialize time parameter\n",
    "t = symbols(\"t\")\n",
    "\n",
    "# declare functions of joints\n",
    "q1 = sin(t)\n",
    "q2 = cos(2*t)\n",
    "d3 = sin(3*t)\n",
    "\n",
    "# differentiating the joint functions\n",
    "dq1 = diff(q1, t)\n",
    "dq2 = diff(q2, t)\n",
    "dd3 = diff(d3, t)\n",
    "\n",
    "# Matrix of Joint Velocities\n",
    "dq = Matrix([dq1, dq2, dd3])\n",
    "\n",
    "# Print Matrix\n",
    "dq"
   ],
   "metadata": {
    "collapsed": false,
    "pycharm": {
     "name": "#%%\n"
    }
   }
  },
  {
   "cell_type": "code",
   "execution_count": 13,
   "outputs": [
    {
     "data": {
      "text/plain": "⎡(-2⋅a₂ - 2⋅d₃)⋅sin(q₁)⋅sin(q₂)⋅sin(2⋅t) + (-a₂ - d₃)⋅cos(q₁)⋅cos(q₂)⋅cos(t) -\n⎢                                                                             \n⎢(-a₂ - d₃)⋅sin(q₁)⋅cos(q₂)⋅cos(t) + (2⋅a₂ + 2⋅d₃)⋅sin(q₂)⋅sin(2⋅t)⋅cos(q₁) + \n⎢                                                                             \n⎢                          (-2⋅a₂ - 2⋅d₃)⋅sin(2⋅t)⋅cos(q₂) + 3⋅sin(q₂)⋅cos(3⋅t\n⎢                                                                             \n⎢                                          -2⋅sin(2⋅t)⋅cos(q₁)                \n⎢                                                                             \n⎢                                          -2⋅sin(q₁)⋅sin(2⋅t)                \n⎢                                                                             \n⎣                                                 cos(t)                      \n\n 3⋅sin(q₁)⋅cos(q₂)⋅cos(3⋅t)⎤\n                           ⎥\n3⋅cos(q₁)⋅cos(q₂)⋅cos(3⋅t) ⎥\n                           ⎥\n)                          ⎥\n                           ⎥\n                           ⎥\n                           ⎥\n                           ⎥\n                           ⎥\n                           ⎦",
      "text/latex": "$\\displaystyle \\left[\\begin{matrix}\\left(- 2 a_{2} - 2 d_{3}\\right) \\sin{\\left(q_{1} \\right)} \\sin{\\left(q_{2} \\right)} \\sin{\\left(2 t \\right)} + \\left(- a_{2} - d_{3}\\right) \\cos{\\left(q_{1} \\right)} \\cos{\\left(q_{2} \\right)} \\cos{\\left(t \\right)} - 3 \\sin{\\left(q_{1} \\right)} \\cos{\\left(q_{2} \\right)} \\cos{\\left(3 t \\right)}\\\\\\left(- a_{2} - d_{3}\\right) \\sin{\\left(q_{1} \\right)} \\cos{\\left(q_{2} \\right)} \\cos{\\left(t \\right)} + \\left(2 a_{2} + 2 d_{3}\\right) \\sin{\\left(q_{2} \\right)} \\sin{\\left(2 t \\right)} \\cos{\\left(q_{1} \\right)} + 3 \\cos{\\left(q_{1} \\right)} \\cos{\\left(q_{2} \\right)} \\cos{\\left(3 t \\right)}\\\\\\left(- 2 a_{2} - 2 d_{3}\\right) \\sin{\\left(2 t \\right)} \\cos{\\left(q_{2} \\right)} + 3 \\sin{\\left(q_{2} \\right)} \\cos{\\left(3 t \\right)}\\\\- 2 \\sin{\\left(2 t \\right)} \\cos{\\left(q_{1} \\right)}\\\\- 2 \\sin{\\left(q_{1} \\right)} \\sin{\\left(2 t \\right)}\\\\\\cos{\\left(t \\right)}\\end{matrix}\\right]$"
     },
     "execution_count": 13,
     "metadata": {},
     "output_type": "execute_result"
    }
   ],
   "source": [
    "# Velocity of tool frame equal to product of Jacobian and derivative of joint parameters\n",
    "v = trigsimp(Jaco * dq)\n",
    "\n",
    "v"
   ],
   "metadata": {
    "collapsed": false,
    "pycharm": {
     "name": "#%%\n"
    }
   }
  },
  {
   "cell_type": "code",
   "execution_count": null,
   "outputs": [],
   "source": [],
   "metadata": {
    "collapsed": false,
    "pycharm": {
     "name": "#%%\n"
    }
   }
  }
 ],
 "metadata": {
  "kernelspec": {
   "display_name": "Python 3",
   "language": "python",
   "name": "python3"
  },
  "language_info": {
   "codemirror_mode": {
    "name": "ipython",
    "version": 2
   },
   "file_extension": ".py",
   "mimetype": "text/x-python",
   "name": "python",
   "nbconvert_exporter": "python",
   "pygments_lexer": "ipython2",
   "version": "2.7.6"
  }
 },
 "nbformat": 4,
 "nbformat_minor": 0
}