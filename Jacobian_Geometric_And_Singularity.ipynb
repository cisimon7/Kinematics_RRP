{
 "cells": [
  {
   "cell_type": "code",
   "execution_count": 1,
   "metadata": {
    "collapsed": true
   },
   "outputs": [],
   "source": [
    "from utils import *\n",
    "from sympy import symbols, trigsimp, lambdify, diff, init_printing, eye, det\n",
    "init_printing(use_unicode=True)"
   ]
  },
  {
   "cell_type": "code",
   "execution_count": 2,
   "outputs": [],
   "source": [
    "# Joint parameters declaration\n",
    "q1, q2, a2, d1, d3 = symbols(\"q1 q2 a2, d1 d3\", real=True)"
   ],
   "metadata": {
    "collapsed": false,
    "pycharm": {
     "name": "#%%\n"
    }
   }
  },
  {
   "cell_type": "code",
   "execution_count": 3,
   "outputs": [
    {
     "data": {
      "text/plain": "⎡1  0  0  0⎤\n⎢          ⎥\n⎢0  1  0  0⎥\n⎢          ⎥\n⎢0  0  1  0⎥\n⎢          ⎥\n⎣0  0  0  1⎦",
      "text/latex": "$\\displaystyle \\left[\\begin{matrix}1 & 0 & 0 & 0\\\\0 & 1 & 0 & 0\\\\0 & 0 & 1 & 0\\\\0 & 0 & 0 & 1\\end{matrix}\\right]$"
     },
     "execution_count": 3,
     "metadata": {},
     "output_type": "execute_result"
    }
   ],
   "source": [
    "# Joint 0 Position vector and rotation axis\n",
    "H0 = eye(4)\n",
    "P0 = H0[0:3, -1]\n",
    "Z0 = H0[0:3, 2]\n",
    "H0"
   ],
   "metadata": {
    "collapsed": false,
    "pycharm": {
     "name": "#%%\n"
    }
   }
  },
  {
   "cell_type": "code",
   "execution_count": 4,
   "outputs": [
    {
     "data": {
      "text/plain": "⎡cos(q₁)⎤\n⎢       ⎥\n⎢sin(q₁)⎥\n⎢       ⎥\n⎣   0   ⎦",
      "text/latex": "$\\displaystyle \\left[\\begin{matrix}\\cos{\\left(q_{1} \\right)}\\\\\\sin{\\left(q_{1} \\right)}\\\\0\\end{matrix}\\right]$"
     },
     "execution_count": 4,
     "metadata": {},
     "output_type": "execute_result"
    }
   ],
   "source": [
    "# Joint 1 Position vector and rotation axis\n",
    "H1 = trigsimp(Rz(q1)*Tz(d1))\n",
    "P1 = H1[0:3, -1]\n",
    "Z1 = H1[0:3, 0]\n",
    "Z1"
   ],
   "metadata": {
    "collapsed": false,
    "pycharm": {
     "name": "#%%\n"
    }
   }
  },
  {
   "cell_type": "code",
   "execution_count": 5,
   "outputs": [
    {
     "data": {
      "text/plain": "⎡cos(q₁)  -sin(q₁)⋅cos(q₂)  sin(q₁)⋅sin(q₂)   0 ⎤\n⎢                                               ⎥\n⎢sin(q₁)  cos(q₁)⋅cos(q₂)   -sin(q₂)⋅cos(q₁)  0 ⎥\n⎢                                               ⎥\n⎢   0         sin(q₂)           cos(q₂)       d₁⎥\n⎢                                               ⎥\n⎣   0            0                 0          1 ⎦",
      "text/latex": "$\\displaystyle \\left[\\begin{matrix}\\cos{\\left(q_{1} \\right)} & - \\sin{\\left(q_{1} \\right)} \\cos{\\left(q_{2} \\right)} & \\sin{\\left(q_{1} \\right)} \\sin{\\left(q_{2} \\right)} & 0\\\\\\sin{\\left(q_{1} \\right)} & \\cos{\\left(q_{1} \\right)} \\cos{\\left(q_{2} \\right)} & - \\sin{\\left(q_{2} \\right)} \\cos{\\left(q_{1} \\right)} & 0\\\\0 & \\sin{\\left(q_{2} \\right)} & \\cos{\\left(q_{2} \\right)} & d_{1}\\\\0 & 0 & 0 & 1\\end{matrix}\\right]$"
     },
     "execution_count": 5,
     "metadata": {},
     "output_type": "execute_result"
    }
   ],
   "source": [
    "# Joint 2 Position vector and rotation axis\n",
    "H2 = trigsimp(Rz(q1)*Tz(d1)*Rx(q2))\n",
    "P2 = H2[0:3, -1]\n",
    "Z2 = H2[0:3, 1]\n",
    "H2"
   ],
   "metadata": {
    "collapsed": false,
    "pycharm": {
     "name": "#%%\n"
    }
   }
  },
  {
   "cell_type": "code",
   "execution_count": 6,
   "outputs": [
    {
     "data": {
      "text/plain": "⎡cos(q₁)  -sin(q₁)⋅cos(q₂)  sin(q₁)⋅sin(q₂)    -(a₂ + d₃)⋅sin(q₁)⋅cos(q₂) ⎤\n⎢                                                                         ⎥\n⎢sin(q₁)  cos(q₁)⋅cos(q₂)   -sin(q₂)⋅cos(q₁)   (a₂ + d₃)⋅cos(q₁)⋅cos(q₂)  ⎥\n⎢                                                                         ⎥\n⎢   0         sin(q₂)           cos(q₂)       a₂⋅sin(q₂) + d₁ + d₃⋅sin(q₂)⎥\n⎢                                                                         ⎥\n⎣   0            0                 0                       1              ⎦",
      "text/latex": "$\\displaystyle \\left[\\begin{matrix}\\cos{\\left(q_{1} \\right)} & - \\sin{\\left(q_{1} \\right)} \\cos{\\left(q_{2} \\right)} & \\sin{\\left(q_{1} \\right)} \\sin{\\left(q_{2} \\right)} & - \\left(a_{2} + d_{3}\\right) \\sin{\\left(q_{1} \\right)} \\cos{\\left(q_{2} \\right)}\\\\\\sin{\\left(q_{1} \\right)} & \\cos{\\left(q_{1} \\right)} \\cos{\\left(q_{2} \\right)} & - \\sin{\\left(q_{2} \\right)} \\cos{\\left(q_{1} \\right)} & \\left(a_{2} + d_{3}\\right) \\cos{\\left(q_{1} \\right)} \\cos{\\left(q_{2} \\right)}\\\\0 & \\sin{\\left(q_{2} \\right)} & \\cos{\\left(q_{2} \\right)} & a_{2} \\sin{\\left(q_{2} \\right)} + d_{1} + d_{3} \\sin{\\left(q_{2} \\right)}\\\\0 & 0 & 0 & 1\\end{matrix}\\right]$"
     },
     "execution_count": 6,
     "metadata": {},
     "output_type": "execute_result"
    }
   ],
   "source": [
    "# Joint 3 Position vector and rotation axis\n",
    "H3 = trigsimp(Rz(q1)*Tz(d1)*Rx(q2)*Ty(a2)*Ty(d3))\n",
    "P3 = H3[0:3, -1]\n",
    "H3"
   ],
   "metadata": {
    "collapsed": false,
    "pycharm": {
     "name": "#%%\n"
    }
   }
  },
  {
   "cell_type": "code",
   "execution_count": 7,
   "outputs": [],
   "source": [
    "J1 = trigsimp(Z0.cross(P3 - P0)).row_insert(len(Z0), Z0)\n",
    "J2 = trigsimp(Z1.cross(P3 - P1)).row_insert(len(Z1), Z1)\n",
    "J3 = Z2.row_insert(len(Z0), Matrix([0, 0, 0]))"
   ],
   "metadata": {
    "collapsed": false,
    "pycharm": {
     "name": "#%%\n"
    }
   }
  },
  {
   "cell_type": "code",
   "execution_count": 8,
   "outputs": [],
   "source": [
    "J_Function = J1.col_insert(1, J2)\\\n",
    "    .col_insert(2, J3)\\"
   ],
   "metadata": {
    "collapsed": false,
    "pycharm": {
     "name": "#%%\n"
    }
   }
  },
  {
   "cell_type": "code",
   "execution_count": 9,
   "outputs": [
    {
     "data": {
      "text/plain": "⎡(-a₂ - d₃)⋅cos(q₁)⋅cos(q₂)  (a₂ + d₃)⋅sin(q₁)⋅sin(q₂)   -sin(q₁)⋅cos(q₂)⎤\n⎢                                                                        ⎥\n⎢(-a₂ - d₃)⋅sin(q₁)⋅cos(q₂)  (-a₂ - d₃)⋅sin(q₂)⋅cos(q₁)  cos(q₁)⋅cos(q₂) ⎥\n⎢                                                                        ⎥\n⎢            0                   (a₂ + d₃)⋅cos(q₂)           sin(q₂)     ⎥\n⎢                                                                        ⎥\n⎢            0                        cos(q₁)                   0        ⎥\n⎢                                                                        ⎥\n⎢            0                        sin(q₁)                   0        ⎥\n⎢                                                                        ⎥\n⎣            1                           0                      0        ⎦",
      "text/latex": "$\\displaystyle \\left[\\begin{matrix}\\left(- a_{2} - d_{3}\\right) \\cos{\\left(q_{1} \\right)} \\cos{\\left(q_{2} \\right)} & \\left(a_{2} + d_{3}\\right) \\sin{\\left(q_{1} \\right)} \\sin{\\left(q_{2} \\right)} & - \\sin{\\left(q_{1} \\right)} \\cos{\\left(q_{2} \\right)}\\\\\\left(- a_{2} - d_{3}\\right) \\sin{\\left(q_{1} \\right)} \\cos{\\left(q_{2} \\right)} & \\left(- a_{2} - d_{3}\\right) \\sin{\\left(q_{2} \\right)} \\cos{\\left(q_{1} \\right)} & \\cos{\\left(q_{1} \\right)} \\cos{\\left(q_{2} \\right)}\\\\0 & \\left(a_{2} + d_{3}\\right) \\cos{\\left(q_{2} \\right)} & \\sin{\\left(q_{2} \\right)}\\\\0 & \\cos{\\left(q_{1} \\right)} & 0\\\\0 & \\sin{\\left(q_{1} \\right)} & 0\\\\1 & 0 & 0\\end{matrix}\\right]$"
     },
     "execution_count": 9,
     "metadata": {},
     "output_type": "execute_result"
    }
   ],
   "source": [
    "# The Jacobain Function\n",
    "J_Function"
   ],
   "metadata": {
    "collapsed": false,
    "pycharm": {
     "name": "#%%\n"
    }
   }
  },
  {
   "cell_type": "code",
   "execution_count": 10,
   "outputs": [
    {
     "data": {
      "text/plain": "         2        \n(a₂ + d₃) ⋅cos(q₂)",
      "text/latex": "$\\displaystyle \\left(a_{2} + d_{3}\\right)^{2} \\cos{\\left(q_{2} \\right)}$"
     },
     "execution_count": 10,
     "metadata": {},
     "output_type": "execute_result"
    }
   ],
   "source": [
    "\n",
    "\n",
    "# SINGULARITY ANALYSIS\n",
    "\n",
    "# Determinant of the Jacobian\n",
    "# Taking the velocity from the Jacobian matrix and finding it's determinant\n",
    "J = J_Function[0:3, :]\n",
    "trigsimp(det(J))"
   ],
   "metadata": {
    "collapsed": false,
    "pycharm": {
     "name": "#%%\n"
    }
   }
  },
  {
   "cell_type": "code",
   "execution_count": null,
   "outputs": [],
   "source": [
    "# Singularity occurs when determinant is equal to zero\n",
    "# The determinant is equal to zero when q2 is pi (90 degrees) or -pi (-90 degrees)"
   ],
   "metadata": {
    "collapsed": false,
    "pycharm": {
     "name": "#%%\n"
    }
   }
  }
 ],
 "metadata": {
  "kernelspec": {
   "display_name": "Python 3",
   "language": "python",
   "name": "python3"
  },
  "language_info": {
   "codemirror_mode": {
    "name": "ipython",
    "version": 2
   },
   "file_extension": ".py",
   "mimetype": "text/x-python",
   "name": "python",
   "nbconvert_exporter": "python",
   "pygments_lexer": "ipython2",
   "version": "2.7.6"
  }
 },
 "nbformat": 4,
 "nbformat_minor": 0
}