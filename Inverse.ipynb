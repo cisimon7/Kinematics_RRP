{
 "cells": [
  {
   "cell_type": "code",
   "execution_count": 1,
   "metadata": {
    "collapsed": true
   },
   "outputs": [],
   "source": [
    "from utils import *\n",
    "from sympy import symbols, trigsimp, lambdify, diff, init_printing, sqrt, atan2, expand, factor\n",
    "init_printing(use_unicode=True)"
   ]
  },
  {
   "cell_type": "code",
   "execution_count": 2,
   "outputs": [],
   "source": [
    "# Constant Joint parameters declaration\n",
    "a2, d1 = symbols(\"a2 d1\", real=True)"
   ],
   "metadata": {
    "collapsed": false,
    "pycharm": {
     "name": "#%%\n"
    }
   }
  },
  {
   "cell_type": "code",
   "execution_count": 3,
   "outputs": [],
   "source": [
    "# Position of end effector\n",
    "px, py, pz = symbols(\"px, py, pz\")"
   ],
   "metadata": {
    "collapsed": false,
    "pycharm": {
     "name": "#%%\n"
    }
   }
  },
  {
   "cell_type": "code",
   "execution_count": 4,
   "outputs": [
    {
     "data": {
      "text/plain": "atan2(py, px)",
      "text/latex": "$\\displaystyle \\operatorname{atan_{2}}{\\left(py,px \\right)}$"
     },
     "execution_count": 4,
     "metadata": {},
     "output_type": "execute_result"
    }
   ],
   "source": [
    "# From top view of Robot\n",
    "# One solution\n",
    "q1 = atan2(py, px)\n",
    "q1"
   ],
   "metadata": {
    "collapsed": false,
    "pycharm": {
     "name": "#%%\n"
    }
   }
  },
  {
   "cell_type": "code",
   "execution_count": 5,
   "outputs": [
    {
     "data": {
      "text/plain": "   ___________\n  ╱   2     2 \n╲╱  px  + py  ",
      "text/latex": "$\\displaystyle \\sqrt{px^{2} + py^{2}}$"
     },
     "execution_count": 5,
     "metadata": {},
     "output_type": "execute_result"
    }
   ],
   "source": [
    "# Projection of a2 and d3 on the x-y plane\n",
    "r = sqrt(px**2 + py**2)\n",
    "r"
   ],
   "metadata": {
    "collapsed": false,
    "pycharm": {
     "name": "#%%\n"
    }
   }
  },
  {
   "cell_type": "code",
   "execution_count": 6,
   "outputs": [
    {
     "data": {
      "text/plain": "     ⎛             ___________⎞\n     ⎜            ╱   2     2 ⎟\natan2⎝-d₁ + pz, ╲╱  px  + py  ⎠",
      "text/latex": "$\\displaystyle \\operatorname{atan_{2}}{\\left(- d_{1} + pz,\\sqrt{px^{2} + py^{2}} \\right)}$"
     },
     "execution_count": 6,
     "metadata": {},
     "output_type": "execute_result"
    }
   ],
   "source": [
    "# View of Robot from side\n",
    "# Possible two solutions\n",
    "q21 = atan2(pz - d1, r)\n",
    "q21"
   ],
   "metadata": {
    "collapsed": false,
    "pycharm": {
     "name": "#%%\n"
    }
   }
  },
  {
   "cell_type": "code",
   "execution_count": 7,
   "outputs": [
    {
     "data": {
      "text/plain": "     ⎛              ___________⎞\n     ⎜             ╱   2     2 ⎟\natan2⎝-d₁ + pz, -╲╱  px  + py  ⎠",
      "text/latex": "$\\displaystyle \\operatorname{atan_{2}}{\\left(- d_{1} + pz,- \\sqrt{px^{2} + py^{2}} \\right)}$"
     },
     "execution_count": 7,
     "metadata": {},
     "output_type": "execute_result"
    }
   ],
   "source": [
    "# Possible two solutions\n",
    "q22 = atan2(pz - d1, -r)\n",
    "q22"
   ],
   "metadata": {
    "collapsed": false,
    "pycharm": {
     "name": "#%%\n"
    }
   }
  },
  {
   "cell_type": "code",
   "execution_count": 8,
   "outputs": [
    {
     "data": {
      "text/plain": "   _________________________\n  ╱   2     2             2 \n╲╱  px  + py  + (-d₁ + pz)  ",
      "text/latex": "$\\displaystyle \\sqrt{px^{2} + py^{2} + \\left(- d_{1} + pz\\right)^{2}}$"
     },
     "execution_count": 8,
     "metadata": {},
     "output_type": "execute_result"
    }
   ],
   "source": [
    "# Length of a2 + d3, denoted as D, from side view of robot\n",
    "D = sqrt(r**2 + (pz-d1)**2)\n",
    "# D = expand(D)\n",
    "D"
   ],
   "metadata": {
    "collapsed": false,
    "pycharm": {
     "name": "#%%\n"
    }
   }
  },
  {
   "cell_type": "code",
   "execution_count": 9,
   "outputs": [
    {
     "data": {
      "text/plain": "         _________________________\n        ╱   2     2             2 \n-a₂ + ╲╱  px  + py  + (-d₁ + pz)  ",
      "text/latex": "$\\displaystyle - a_{2} + \\sqrt{px^{2} + py^{2} + \\left(- d_{1} + pz\\right)^{2}}$"
     },
     "execution_count": 9,
     "metadata": {},
     "output_type": "execute_result"
    }
   ],
   "source": [
    "# Length of d3 from D\n",
    "d31 = D - a2\n",
    "d31"
   ],
   "metadata": {
    "collapsed": false,
    "pycharm": {
     "name": "#%%\n"
    }
   }
  },
  {
   "cell_type": "code",
   "execution_count": null,
   "outputs": [],
   "source": [],
   "metadata": {
    "collapsed": false,
    "pycharm": {
     "name": "#%%\n"
    }
   }
  }
 ],
 "metadata": {
  "kernelspec": {
   "display_name": "Python 3",
   "language": "python",
   "name": "python3"
  },
  "language_info": {
   "codemirror_mode": {
    "name": "ipython",
    "version": 2
   },
   "file_extension": ".py",
   "mimetype": "text/x-python",
   "name": "python",
   "nbconvert_exporter": "python",
   "pygments_lexer": "ipython2",
   "version": "2.7.6"
  }
 },
 "nbformat": 4,
 "nbformat_minor": 0
}